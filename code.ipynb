{
 "cells": [
  {
   "cell_type": "code",
   "execution_count": 51,
   "metadata": {},
   "outputs": [],
   "source": [
    "import pandas as pd\n",
    "import numpy as np\n",
    "import seaborn as sn\n",
    "from sklearn.svm import SVC\n",
    "import matplotlib.pyplot as plt\n",
    "from sklearn.tree import DecisionTreeClassifier\n",
    "from sklearn.model_selection import train_test_split\n",
    "from sklearn.ensemble import RandomForestClassifier\n",
    "from sklearn.linear_model import LogisticRegression"
   ]
  },
  {
   "cell_type": "code",
   "execution_count": 52,
   "metadata": {},
   "outputs": [],
   "source": [
    "data = pd.read_csv(\"./data.csv\", on_bad_lines='skip')"
   ]
  },
  {
   "cell_type": "code",
   "execution_count": 53,
   "metadata": {},
   "outputs": [
    {
     "data": {
      "text/plain": [
       "(1310, 64)"
      ]
     },
     "execution_count": 53,
     "metadata": {},
     "output_type": "execute_result"
    }
   ],
   "source": [
    "data.shape"
   ]
  },
  {
   "cell_type": "code",
   "execution_count": 54,
   "metadata": {},
   "outputs": [],
   "source": [
    "arr = np.array(data.values)"
   ]
  },
  {
   "cell_type": "code",
   "execution_count": 55,
   "metadata": {},
   "outputs": [],
   "source": [
    "columns = [\n",
    "    'class',\n",
    "]\n",
    "for i in range(1,64):\n",
    "    columns.append(f'{i}')"
   ]
  },
  {
   "cell_type": "code",
   "execution_count": 56,
   "metadata": {},
   "outputs": [
    {
     "data": {
      "text/plain": [
       "64"
      ]
     },
     "execution_count": 56,
     "metadata": {},
     "output_type": "execute_result"
    }
   ],
   "source": [
    "len(columns)"
   ]
  },
  {
   "cell_type": "code",
   "execution_count": 57,
   "metadata": {},
   "outputs": [],
   "source": [
    "data = pd.DataFrame(arr, columns=columns)"
   ]
  },
  {
   "cell_type": "code",
   "execution_count": 58,
   "metadata": {},
   "outputs": [
    {
     "data": {
      "text/html": [
       "<div>\n",
       "<style scoped>\n",
       "    .dataframe tbody tr th:only-of-type {\n",
       "        vertical-align: middle;\n",
       "    }\n",
       "\n",
       "    .dataframe tbody tr th {\n",
       "        vertical-align: top;\n",
       "    }\n",
       "\n",
       "    .dataframe thead th {\n",
       "        text-align: right;\n",
       "    }\n",
       "</style>\n",
       "<table border=\"1\" class=\"dataframe\">\n",
       "  <thead>\n",
       "    <tr style=\"text-align: right;\">\n",
       "      <th></th>\n",
       "      <th>class</th>\n",
       "      <th>1</th>\n",
       "      <th>2</th>\n",
       "      <th>3</th>\n",
       "      <th>4</th>\n",
       "      <th>5</th>\n",
       "      <th>6</th>\n",
       "      <th>7</th>\n",
       "      <th>8</th>\n",
       "      <th>9</th>\n",
       "      <th>...</th>\n",
       "      <th>54</th>\n",
       "      <th>55</th>\n",
       "      <th>56</th>\n",
       "      <th>57</th>\n",
       "      <th>58</th>\n",
       "      <th>59</th>\n",
       "      <th>60</th>\n",
       "      <th>61</th>\n",
       "      <th>62</th>\n",
       "      <th>63</th>\n",
       "    </tr>\n",
       "  </thead>\n",
       "  <tbody>\n",
       "    <tr>\n",
       "      <th>0</th>\n",
       "      <td>1.0</td>\n",
       "      <td>0.468167</td>\n",
       "      <td>0.807778</td>\n",
       "      <td>6.390462e-07</td>\n",
       "      <td>0.535716</td>\n",
       "      <td>0.775360</td>\n",
       "      <td>-0.046226</td>\n",
       "      <td>0.581934</td>\n",
       "      <td>0.701189</td>\n",
       "      <td>-0.059497</td>\n",
       "      <td>...</td>\n",
       "      <td>-0.034453</td>\n",
       "      <td>0.366955</td>\n",
       "      <td>0.614021</td>\n",
       "      <td>-0.072205</td>\n",
       "      <td>0.366500</td>\n",
       "      <td>0.591357</td>\n",
       "      <td>-0.089444</td>\n",
       "      <td>0.364600</td>\n",
       "      <td>0.593469</td>\n",
       "      <td>-0.096780</td>\n",
       "    </tr>\n",
       "    <tr>\n",
       "      <th>1</th>\n",
       "      <td>1.0</td>\n",
       "      <td>0.438491</td>\n",
       "      <td>0.774654</td>\n",
       "      <td>6.912893e-07</td>\n",
       "      <td>0.508975</td>\n",
       "      <td>0.752393</td>\n",
       "      <td>-0.056626</td>\n",
       "      <td>0.550691</td>\n",
       "      <td>0.684223</td>\n",
       "      <td>-0.082184</td>\n",
       "      <td>...</td>\n",
       "      <td>-0.020003</td>\n",
       "      <td>0.340815</td>\n",
       "      <td>0.550034</td>\n",
       "      <td>-0.063120</td>\n",
       "      <td>0.358630</td>\n",
       "      <td>0.578905</td>\n",
       "      <td>-0.060223</td>\n",
       "      <td>0.370799</td>\n",
       "      <td>0.622038</td>\n",
       "      <td>-0.045314</td>\n",
       "    </tr>\n",
       "    <tr>\n",
       "      <th>2</th>\n",
       "      <td>1.0</td>\n",
       "      <td>0.438491</td>\n",
       "      <td>0.774654</td>\n",
       "      <td>6.912893e-07</td>\n",
       "      <td>0.508975</td>\n",
       "      <td>0.752393</td>\n",
       "      <td>-0.056626</td>\n",
       "      <td>0.550691</td>\n",
       "      <td>0.684223</td>\n",
       "      <td>-0.082184</td>\n",
       "      <td>...</td>\n",
       "      <td>-0.020003</td>\n",
       "      <td>0.340815</td>\n",
       "      <td>0.550034</td>\n",
       "      <td>-0.063120</td>\n",
       "      <td>0.358630</td>\n",
       "      <td>0.578905</td>\n",
       "      <td>-0.060223</td>\n",
       "      <td>0.370799</td>\n",
       "      <td>0.622038</td>\n",
       "      <td>-0.045314</td>\n",
       "    </tr>\n",
       "    <tr>\n",
       "      <th>3</th>\n",
       "      <td>1.0</td>\n",
       "      <td>0.438491</td>\n",
       "      <td>0.774654</td>\n",
       "      <td>6.912893e-07</td>\n",
       "      <td>0.508975</td>\n",
       "      <td>0.752393</td>\n",
       "      <td>-0.056626</td>\n",
       "      <td>0.550691</td>\n",
       "      <td>0.684223</td>\n",
       "      <td>-0.082184</td>\n",
       "      <td>...</td>\n",
       "      <td>-0.020003</td>\n",
       "      <td>0.340815</td>\n",
       "      <td>0.550034</td>\n",
       "      <td>-0.063120</td>\n",
       "      <td>0.358630</td>\n",
       "      <td>0.578905</td>\n",
       "      <td>-0.060223</td>\n",
       "      <td>0.370799</td>\n",
       "      <td>0.622038</td>\n",
       "      <td>-0.045314</td>\n",
       "    </tr>\n",
       "    <tr>\n",
       "      <th>4</th>\n",
       "      <td>1.0</td>\n",
       "      <td>0.432156</td>\n",
       "      <td>0.787208</td>\n",
       "      <td>7.377377e-07</td>\n",
       "      <td>0.505253</td>\n",
       "      <td>0.756320</td>\n",
       "      <td>-0.066840</td>\n",
       "      <td>0.547114</td>\n",
       "      <td>0.687777</td>\n",
       "      <td>-0.099807</td>\n",
       "      <td>...</td>\n",
       "      <td>-0.016191</td>\n",
       "      <td>0.342309</td>\n",
       "      <td>0.551438</td>\n",
       "      <td>-0.060685</td>\n",
       "      <td>0.359726</td>\n",
       "      <td>0.583720</td>\n",
       "      <td>-0.057118</td>\n",
       "      <td>0.372313</td>\n",
       "      <td>0.627548</td>\n",
       "      <td>-0.041759</td>\n",
       "    </tr>\n",
       "    <tr>\n",
       "      <th>...</th>\n",
       "      <td>...</td>\n",
       "      <td>...</td>\n",
       "      <td>...</td>\n",
       "      <td>...</td>\n",
       "      <td>...</td>\n",
       "      <td>...</td>\n",
       "      <td>...</td>\n",
       "      <td>...</td>\n",
       "      <td>...</td>\n",
       "      <td>...</td>\n",
       "      <td>...</td>\n",
       "      <td>...</td>\n",
       "      <td>...</td>\n",
       "      <td>...</td>\n",
       "      <td>...</td>\n",
       "      <td>...</td>\n",
       "      <td>...</td>\n",
       "      <td>...</td>\n",
       "      <td>...</td>\n",
       "      <td>...</td>\n",
       "      <td>...</td>\n",
       "    </tr>\n",
       "    <tr>\n",
       "      <th>1305</th>\n",
       "      <td>3.0</td>\n",
       "      <td>0.505801</td>\n",
       "      <td>0.905159</td>\n",
       "      <td>-1.308441e-06</td>\n",
       "      <td>0.525166</td>\n",
       "      <td>0.693556</td>\n",
       "      <td>-0.039460</td>\n",
       "      <td>0.565048</td>\n",
       "      <td>0.517981</td>\n",
       "      <td>-0.071740</td>\n",
       "      <td>...</td>\n",
       "      <td>-0.152048</td>\n",
       "      <td>0.485683</td>\n",
       "      <td>0.855592</td>\n",
       "      <td>-0.198942</td>\n",
       "      <td>0.513831</td>\n",
       "      <td>0.870768</td>\n",
       "      <td>-0.186917</td>\n",
       "      <td>0.576706</td>\n",
       "      <td>0.882065</td>\n",
       "      <td>-0.172199</td>\n",
       "    </tr>\n",
       "    <tr>\n",
       "      <th>1306</th>\n",
       "      <td>3.0</td>\n",
       "      <td>0.505801</td>\n",
       "      <td>0.905159</td>\n",
       "      <td>-1.308441e-06</td>\n",
       "      <td>0.525166</td>\n",
       "      <td>0.693556</td>\n",
       "      <td>-0.039460</td>\n",
       "      <td>0.565048</td>\n",
       "      <td>0.517981</td>\n",
       "      <td>-0.071740</td>\n",
       "      <td>...</td>\n",
       "      <td>-0.152048</td>\n",
       "      <td>0.485683</td>\n",
       "      <td>0.855592</td>\n",
       "      <td>-0.198942</td>\n",
       "      <td>0.513831</td>\n",
       "      <td>0.870768</td>\n",
       "      <td>-0.186917</td>\n",
       "      <td>0.576706</td>\n",
       "      <td>0.882065</td>\n",
       "      <td>-0.172199</td>\n",
       "    </tr>\n",
       "    <tr>\n",
       "      <th>1307</th>\n",
       "      <td>3.0</td>\n",
       "      <td>0.824080</td>\n",
       "      <td>0.862276</td>\n",
       "      <td>-8.094534e-07</td>\n",
       "      <td>0.779914</td>\n",
       "      <td>0.689209</td>\n",
       "      <td>-0.010876</td>\n",
       "      <td>0.693225</td>\n",
       "      <td>0.531408</td>\n",
       "      <td>-0.052998</td>\n",
       "      <td>...</td>\n",
       "      <td>-0.262341</td>\n",
       "      <td>0.463135</td>\n",
       "      <td>0.806514</td>\n",
       "      <td>-0.309388</td>\n",
       "      <td>0.433140</td>\n",
       "      <td>0.813818</td>\n",
       "      <td>-0.288746</td>\n",
       "      <td>0.474578</td>\n",
       "      <td>0.824725</td>\n",
       "      <td>-0.269851</td>\n",
       "    </tr>\n",
       "    <tr>\n",
       "      <th>1308</th>\n",
       "      <td>3.0</td>\n",
       "      <td>0.824080</td>\n",
       "      <td>0.862276</td>\n",
       "      <td>-8.094534e-07</td>\n",
       "      <td>0.779914</td>\n",
       "      <td>0.689209</td>\n",
       "      <td>-0.010876</td>\n",
       "      <td>0.693225</td>\n",
       "      <td>0.531408</td>\n",
       "      <td>-0.052998</td>\n",
       "      <td>...</td>\n",
       "      <td>-0.262341</td>\n",
       "      <td>0.463135</td>\n",
       "      <td>0.806514</td>\n",
       "      <td>-0.309388</td>\n",
       "      <td>0.433140</td>\n",
       "      <td>0.813818</td>\n",
       "      <td>-0.288746</td>\n",
       "      <td>0.474578</td>\n",
       "      <td>0.824725</td>\n",
       "      <td>-0.269851</td>\n",
       "    </tr>\n",
       "    <tr>\n",
       "      <th>1309</th>\n",
       "      <td>3.0</td>\n",
       "      <td>0.824080</td>\n",
       "      <td>0.862276</td>\n",
       "      <td>-8.094534e-07</td>\n",
       "      <td>0.779914</td>\n",
       "      <td>0.689209</td>\n",
       "      <td>-0.010876</td>\n",
       "      <td>0.693225</td>\n",
       "      <td>0.531408</td>\n",
       "      <td>-0.052998</td>\n",
       "      <td>...</td>\n",
       "      <td>-0.262341</td>\n",
       "      <td>0.463135</td>\n",
       "      <td>0.806514</td>\n",
       "      <td>-0.309388</td>\n",
       "      <td>0.433140</td>\n",
       "      <td>0.813818</td>\n",
       "      <td>-0.288746</td>\n",
       "      <td>0.474578</td>\n",
       "      <td>0.824725</td>\n",
       "      <td>-0.269851</td>\n",
       "    </tr>\n",
       "  </tbody>\n",
       "</table>\n",
       "<p>1310 rows × 64 columns</p>\n",
       "</div>"
      ],
      "text/plain": [
       "      class         1         2             3         4         5         6  \\\n",
       "0       1.0  0.468167  0.807778  6.390462e-07  0.535716  0.775360 -0.046226   \n",
       "1       1.0  0.438491  0.774654  6.912893e-07  0.508975  0.752393 -0.056626   \n",
       "2       1.0  0.438491  0.774654  6.912893e-07  0.508975  0.752393 -0.056626   \n",
       "3       1.0  0.438491  0.774654  6.912893e-07  0.508975  0.752393 -0.056626   \n",
       "4       1.0  0.432156  0.787208  7.377377e-07  0.505253  0.756320 -0.066840   \n",
       "...     ...       ...       ...           ...       ...       ...       ...   \n",
       "1305    3.0  0.505801  0.905159 -1.308441e-06  0.525166  0.693556 -0.039460   \n",
       "1306    3.0  0.505801  0.905159 -1.308441e-06  0.525166  0.693556 -0.039460   \n",
       "1307    3.0  0.824080  0.862276 -8.094534e-07  0.779914  0.689209 -0.010876   \n",
       "1308    3.0  0.824080  0.862276 -8.094534e-07  0.779914  0.689209 -0.010876   \n",
       "1309    3.0  0.824080  0.862276 -8.094534e-07  0.779914  0.689209 -0.010876   \n",
       "\n",
       "             7         8         9  ...        54        55        56  \\\n",
       "0     0.581934  0.701189 -0.059497  ... -0.034453  0.366955  0.614021   \n",
       "1     0.550691  0.684223 -0.082184  ... -0.020003  0.340815  0.550034   \n",
       "2     0.550691  0.684223 -0.082184  ... -0.020003  0.340815  0.550034   \n",
       "3     0.550691  0.684223 -0.082184  ... -0.020003  0.340815  0.550034   \n",
       "4     0.547114  0.687777 -0.099807  ... -0.016191  0.342309  0.551438   \n",
       "...        ...       ...       ...  ...       ...       ...       ...   \n",
       "1305  0.565048  0.517981 -0.071740  ... -0.152048  0.485683  0.855592   \n",
       "1306  0.565048  0.517981 -0.071740  ... -0.152048  0.485683  0.855592   \n",
       "1307  0.693225  0.531408 -0.052998  ... -0.262341  0.463135  0.806514   \n",
       "1308  0.693225  0.531408 -0.052998  ... -0.262341  0.463135  0.806514   \n",
       "1309  0.693225  0.531408 -0.052998  ... -0.262341  0.463135  0.806514   \n",
       "\n",
       "            57        58        59        60        61        62        63  \n",
       "0    -0.072205  0.366500  0.591357 -0.089444  0.364600  0.593469 -0.096780  \n",
       "1    -0.063120  0.358630  0.578905 -0.060223  0.370799  0.622038 -0.045314  \n",
       "2    -0.063120  0.358630  0.578905 -0.060223  0.370799  0.622038 -0.045314  \n",
       "3    -0.063120  0.358630  0.578905 -0.060223  0.370799  0.622038 -0.045314  \n",
       "4    -0.060685  0.359726  0.583720 -0.057118  0.372313  0.627548 -0.041759  \n",
       "...        ...       ...       ...       ...       ...       ...       ...  \n",
       "1305 -0.198942  0.513831  0.870768 -0.186917  0.576706  0.882065 -0.172199  \n",
       "1306 -0.198942  0.513831  0.870768 -0.186917  0.576706  0.882065 -0.172199  \n",
       "1307 -0.309388  0.433140  0.813818 -0.288746  0.474578  0.824725 -0.269851  \n",
       "1308 -0.309388  0.433140  0.813818 -0.288746  0.474578  0.824725 -0.269851  \n",
       "1309 -0.309388  0.433140  0.813818 -0.288746  0.474578  0.824725 -0.269851  \n",
       "\n",
       "[1310 rows x 64 columns]"
      ]
     },
     "execution_count": 58,
     "metadata": {},
     "output_type": "execute_result"
    }
   ],
   "source": [
    "data"
   ]
  },
  {
   "cell_type": "code",
   "execution_count": 59,
   "metadata": {},
   "outputs": [],
   "source": [
    "y = data['class']\n",
    "x = data.drop(['class'], axis=1)"
   ]
  },
  {
   "cell_type": "code",
   "execution_count": 60,
   "metadata": {},
   "outputs": [],
   "source": [
    "\n",
    "X_train, X_test, y_train, y_test = train_test_split(x, y, test_size=0.3, random_state=42)"
   ]
  },
  {
   "cell_type": "code",
   "execution_count": 61,
   "metadata": {},
   "outputs": [
    {
     "data": {
      "text/plain": [
       "(917, 63)"
      ]
     },
     "execution_count": 61,
     "metadata": {},
     "output_type": "execute_result"
    }
   ],
   "source": [
    "X_train.shape"
   ]
  },
  {
   "attachments": {},
   "cell_type": "markdown",
   "metadata": {},
   "source": [
    "## RandomForestClassifier"
   ]
  },
  {
   "cell_type": "code",
   "execution_count": 62,
   "metadata": {},
   "outputs": [],
   "source": [
    "rtree = RandomForestClassifier(100)\n",
    "rtree.fit(X_train, y_train)\n",
    "prediction = rtree.predict(X_test)"
   ]
  },
  {
   "cell_type": "code",
   "execution_count": 63,
   "metadata": {},
   "outputs": [],
   "source": [
    "from sklearn.metrics import classification_report,confusion_matrix"
   ]
  },
  {
   "cell_type": "code",
   "execution_count": 64,
   "metadata": {},
   "outputs": [
    {
     "name": "stdout",
     "output_type": "stream",
     "text": [
      "              precision    recall  f1-score   support\n",
      "\n",
      "         0.0       1.00      1.00      1.00       151\n",
      "         1.0       1.00      1.00      1.00        38\n",
      "         2.0       1.00      1.00      1.00        87\n",
      "         3.0       1.00      1.00      1.00       117\n",
      "\n",
      "    accuracy                           1.00       393\n",
      "   macro avg       1.00      1.00      1.00       393\n",
      "weighted avg       1.00      1.00      1.00       393\n",
      "\n"
     ]
    }
   ],
   "source": [
    "print(classification_report(y_test,prediction))"
   ]
  },
  {
   "cell_type": "code",
   "execution_count": 65,
   "metadata": {},
   "outputs": [],
   "source": [
    "ConfusionMatrix = confusion_matrix(y_test,prediction)"
   ]
  },
  {
   "cell_type": "code",
   "execution_count": 66,
   "metadata": {},
   "outputs": [
    {
     "data": {
      "text/plain": [
       "<AxesSubplot:>"
      ]
     },
     "execution_count": 66,
     "metadata": {},
     "output_type": "execute_result"
    },
    {
     "data": {
      "image/png": "[encoded data removed]",
      "text/plain": [
       "<Figure size 1000x700 with 2 Axes>"
      ]
     },
     "metadata": {},
     "output_type": "display_data"
    }
   ],
   "source": [
    "plt.figure(figsize = (10,7))\n",
    "sn.heatmap(ConfusionMatrix, annot=True)"
   ]
  },
  {
   "attachments": {},
   "cell_type": "markdown",
   "metadata": {},
   "source": [
    "# SVC"
   ]
  },
  {
   "cell_type": "code",
   "execution_count": 67,
   "metadata": {},
   "outputs": [],
   "source": [
    "svc = SVC()\n",
    "svc.fit(X_train, y_train)\n",
    "prediction = svc.predict(X_test)"
   ]
  },
  {
   "cell_type": "code",
   "execution_count": 68,
   "metadata": {},
   "outputs": [
    {
     "name": "stdout",
     "output_type": "stream",
     "text": [
      "              precision    recall  f1-score   support\n",
      "\n",
      "         0.0       0.95      1.00      0.97       151\n",
      "         1.0       1.00      0.84      0.91        38\n",
      "         2.0       1.00      0.99      0.99        87\n",
      "         3.0       1.00      0.99      1.00       117\n",
      "\n",
      "    accuracy                           0.98       393\n",
      "   macro avg       0.99      0.96      0.97       393\n",
      "weighted avg       0.98      0.98      0.98       393\n",
      "\n"
     ]
    }
   ],
   "source": [
    "print(classification_report(y_test, prediction))"
   ]
  },
  {
   "cell_type": "code",
   "execution_count": 69,
   "metadata": {},
   "outputs": [],
   "source": [
    "ConfusionMatrix = confusion_matrix(y_test,prediction)"
   ]
  },
  {
   "cell_type": "code",
   "execution_count": 70,
   "metadata": {},
   "outputs": [
    {
     "data": {
      "text/plain": [
       "<AxesSubplot:>"
      ]
     },
     "execution_count": 70,
     "metadata": {},
     "output_type": "execute_result"
    },
    {
     "data": {
      "image/png": "[encoded data removed]",
      "text/plain": [
       "<Figure size 1000x700 with 2 Axes>"
      ]
     },
     "metadata": {},
     "output_type": "display_data"
    }
   ],
   "source": [
    "plt.figure(figsize = (10,7))\n",
    "sn.heatmap(ConfusionMatrix, annot=True)"
   ]
  },
  {
   "attachments": {},
   "cell_type": "markdown",
   "metadata": {},
   "source": [
    "## DecisionTree"
   ]
  },
  {
   "cell_type": "code",
   "execution_count": 71,
   "metadata": {},
   "outputs": [],
   "source": [
    "tree = DecisionTreeClassifier()\n",
    "tree.fit(X_train, y_train)\n",
    "prediction = tree.predict(X_test)"
   ]
  },
  {
   "cell_type": "code",
   "execution_count": 72,
   "metadata": {},
   "outputs": [
    {
     "name": "stdout",
     "output_type": "stream",
     "text": [
      "              precision    recall  f1-score   support\n",
      "\n",
      "         0.0       0.99      1.00      1.00       151\n",
      "         1.0       1.00      1.00      1.00        38\n",
      "         2.0       1.00      1.00      1.00        87\n",
      "         3.0       1.00      0.99      1.00       117\n",
      "\n",
      "    accuracy                           1.00       393\n",
      "   macro avg       1.00      1.00      1.00       393\n",
      "weighted avg       1.00      1.00      1.00       393\n",
      "\n"
     ]
    }
   ],
   "source": [
    "print(classification_report(y_test, prediction))"
   ]
  },
  {
   "attachments": {},
   "cell_type": "markdown",
   "metadata": {},
   "source": [
    "# LogisticRegression"
   ]
  },
  {
   "cell_type": "code",
   "execution_count": 73,
   "metadata": {},
   "outputs": [
    {
     "name": "stderr",
     "output_type": "stream",
     "text": [
      "C:\\Users\\udits\\AppData\\Roaming\\Python\\Python310\\site-packages\\sklearn\\linear_model\\_logistic.py:444: ConvergenceWarning: lbfgs failed to converge (status=1):\n",
      "STOP: TOTAL NO. of ITERATIONS REACHED LIMIT.\n",
      "\n",
      "Increase the number of iterations (max_iter) or scale the data as shown in:\n",
      "    https://scikit-learn.org/stable/modules/preprocessing.html\n",
      "Please also refer to the documentation for alternative solver options:\n",
      "    https://scikit-learn.org/stable/modules/linear_model.html#logistic-regression\n",
      "  n_iter_i = _check_optimize_result(\n"
     ]
    }
   ],
   "source": [
    "logistic = LogisticRegression(penalty='l2', solver=\"lbfgs\",multi_class=\"auto\")\n",
    "logistic.fit(X_train, y_train)\n",
    "prediction = logistic.predict(X_test)"
   ]
  },
  {
   "cell_type": "code",
   "execution_count": 74,
   "metadata": {},
   "outputs": [
    {
     "name": "stdout",
     "output_type": "stream",
     "text": [
      "              precision    recall  f1-score   support\n",
      "\n",
      "         0.0       0.94      1.00      0.97       151\n",
      "         1.0       0.97      0.84      0.90        38\n",
      "         2.0       1.00      0.98      0.99        87\n",
      "         3.0       1.00      0.98      0.99       117\n",
      "\n",
      "    accuracy                           0.97       393\n",
      "   macro avg       0.98      0.95      0.96       393\n",
      "weighted avg       0.98      0.97      0.97       393\n",
      "\n"
     ]
    }
   ],
   "source": [
    "print(classification_report(y_test, prediction))\n"
   ]
  },
  {
   "attachments": {},
   "cell_type": "markdown",
   "metadata": {},
   "source": [
    "## Deep learning model"
   ]
  },
  {
   "cell_type": "code",
   "execution_count": 75,
   "metadata": {},
   "outputs": [
    {
     "name": "stdout",
     "output_type": "stream",
     "text": [
      "Model: \"sequential_1\"\n",
      "_________________________________________________________________\n",
      " Layer (type)                Output Shape              Param #   \n",
      "=================================================================\n",
      " dense_4 (Dense)             (None, 2048)              131072    \n",
      "                                                                 \n",
      " dense_5 (Dense)             (None, 1024)              2098176   \n",
      "                                                                 \n",
      " dense_6 (Dense)             (None, 512)               524800    \n",
      "                                                                 \n",
      " dense_7 (Dense)             (None, 6)                 3078      \n",
      "                                                                 \n",
      "=================================================================\n",
      "Total params: 2,757,126\n",
      "Trainable params: 2,757,126\n",
      "Non-trainable params: 0\n",
      "_________________________________________________________________\n"
     ]
    }
   ],
   "source": [
    "import tensorflow as tf\n",
    "from tensorflow.keras import Sequential\n",
    "\n",
    "\n",
    "model = tf.keras.models.Sequential([\n",
    "    tf.keras.layers.Dense(2048, activation=\"relu\", input_shape=(63,)),\n",
    "    tf.keras.layers.Dense(1024, activation=\"relu\"),\n",
    "    tf.keras.layers.Dense(512, activation=\"relu\"),\n",
    "    tf.keras.layers.Dense(6, activation=\"softmax\"),\n",
    "])\n",
    "\n",
    "model.compile(\n",
    "    optimizer=\"Adam\",\n",
    "    loss=tf.keras.losses.SparseCategoricalCrossentropy(from_logits=True),\n",
    "    metrics=['accuracy'],\n",
    ")\n",
    "\n",
    "model.summary()"
   ]
  },
  {
   "cell_type": "code",
   "execution_count": 77,
   "metadata": {},
   "outputs": [
    {
     "name": "stdout",
     "output_type": "stream",
     "text": [
      "Epoch 1/2\n",
      "29/29 [==============================] - 2s 75ms/step - loss: 0.2329 - accuracy: 0.9160 - val_loss: 0.1221 - val_accuracy: 0.9873\n",
      "Epoch 2/2\n",
      "29/29 [==============================] - 2s 79ms/step - loss: 0.2104 - accuracy: 0.9095 - val_loss: 0.1541 - val_accuracy: 0.9567\n"
     ]
    },
    {
     "data": {
      "text/plain": [
       "<keras.callbacks.History at 0x2a61d5ddcc0>"
      ]
     },
     "execution_count": 77,
     "metadata": {},
     "output_type": "execute_result"
    }
   ],
   "source": [
    "model.fit(X_train, y_train, epochs=2, validation_data=(X_test, y_test))"
   ]
  },
  {
   "cell_type": "code",
   "execution_count": 57,
   "metadata": {},
   "outputs": [
    {
     "name": "stderr",
     "output_type": "stream",
     "text": [
      "WARNING:absl:Found untraced functions such as _update_step_xla while saving (showing 1 of 1). These functions will not be directly callable after loading.\n"
     ]
    },
    {
     "name": "stdout",
     "output_type": "stream",
     "text": [
      "INFO:tensorflow:Assets written to: ./model\\assets\n"
     ]
    },
    {
     "name": "stderr",
     "output_type": "stream",
     "text": [
      "INFO:tensorflow:Assets written to: ./model\\assets\n"
     ]
    }
   ],
   "source": [
    "model.save(\"./model\")"
   ]
  }
 ],
 "metadata": {
  "kernelspec": {
   "display_name": "Python 3",
   "language": "python",
   "name": "python3"
  },
  "language_info": {
   "codemirror_mode": {
    "name": "ipython",
    "version": 3
   },
   "file_extension": ".py",
   "mimetype": "text/x-python",
   "name": "python",
   "nbconvert_exporter": "python",
   "pygments_lexer": "ipython3",
   "version": "3.10.1"
  },
  "orig_nbformat": 4
 },
 "nbformat": 4,
 "nbformat_minor": 2
}
